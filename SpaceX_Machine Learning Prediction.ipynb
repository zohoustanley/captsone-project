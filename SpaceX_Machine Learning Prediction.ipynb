from sklearn.metrics import accuracy_score, precision_score, recall_score, f1_score, confusion_matrix
import warnings
warnings.filterwarnings('ignore')

def evaluate_model(model, X_test, y_test):
    y_pred = model.predict(X_test)
    accuracy = accuracy_score(y_test, y_pred)
    precision = precision_score(y_test, y_pred, average='weighted')
    recall = recall_score(y_test, y_pred, average='weighted')
    f1 = f1_score(y_test, y_pred, average='weighted')
    return accuracy, precision, recall, f1

# Train and evaluate Log reg
logreg_results = evaluate_model(logreg_cv, X_test, Y_test)

# Train and evaluate SVM
svm_results = evaluate_model(svm_cv, X_test, Y_test)

# Train and evaluate Decision Tree
tree_results = evaluate_model(tree_cv, X_test, Y_test)

# Train and evaluate KNN
knn_results = evaluate_model(knn_cv, X_test, Y_test)


results_df = pd.DataFrame({
    'Model': ['SVM', 'Decision Tree', 'Logistic Regression', 'KNN'],
    'Accuracy': [svm_results[0], tree_results[0], logreg_results[0], knn_results[0] ],
    'Precision': [svm_results[1], tree_results[1], logreg_results[1], knn_results[1] ],
    'Recall': [svm_results[2], tree_results[2], logreg_results[2], knn_results[2] ],
    'F1 Score': [svm_results[3], tree_results[3], logreg_results[3], knn_results[3] ]
})

print(results_df)

best_model_index = results_df['F1 Score'].idxmax()
best_model_name = results_df.loc[best_model_index, 'Model']
print(f"The best performing model is: {best_model_name}")
